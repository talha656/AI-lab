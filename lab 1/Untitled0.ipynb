{
  "nbformat": 4,
  "nbformat_minor": 0,
  "metadata": {
    "colab": {
      "provenance": [],
      "authorship_tag": "ABX9TyMbxIF4ZGyHjCRLJEcgHcIW",
      "include_colab_link": true
    },
    "kernelspec": {
      "name": "python3",
      "display_name": "Python 3"
    },
    "language_info": {
      "name": "python"
    }
  },
  "cells": [
    {
      "cell_type": "markdown",
      "metadata": {
        "id": "view-in-github",
        "colab_type": "text"
      },
      "source": [
        "<a href=\"https://colab.research.google.com/github/talha656/AI-lab/blob/main/lab%201/Untitled0.ipynb\" target=\"_parent\"><img src=\"https://colab.research.google.com/assets/colab-badge.svg\" alt=\"Open In Colab\"/></a>"
      ]
    },
    {
      "cell_type": "code",
      "execution_count": 1,
      "metadata": {
        "colab": {
          "base_uri": "https://localhost:8080/"
        },
        "id": "DIZV5XtZM4EF",
        "outputId": "2a8e24aa-cffb-4ba3-840e-cb44ead68e37"
      },
      "outputs": [
        {
          "output_type": "stream",
          "name": "stdout",
          "text": [
            "please enter any number: 5\n",
            "\n",
            " Reverse of entered number is =5\n"
          ]
        }
      ],
      "source": [
        "# lab task 1\n",
        "Number = int(input(\"please enter any number: \"))    \n",
        "R = 0    \n",
        "while(Number > 0):    \n",
        "    Reminder = Number %10    \n",
        "    R = (R *10) + Reminder    \n",
        "    Number = Number //10    \n",
        "     \n",
        "print(\"\\n Reverse of entered number is =%d\" %R) "
      ]
    },
    {
      "cell_type": "code",
      "source": [
        "# lab task 2\n",
        " \n",
        "maximum = int(input(\" Please Enter the Maximum Value : \"))\n",
        "even = 0\n",
        "odd = 0\n",
        " \n",
        "for number in range(1, maximum + 1):\n",
        "    if(number % 2 == 0):\n",
        "        even = even + number\n",
        "    else:\n",
        "        odd = odd + number\n",
        " \n",
        "print(\"The Sum of Even Numbers from 1 to {0} = {1}\".format(number, even))\n",
        "print(\"The Sum of Odd Numbers from 1 to {0} = {1}\".format(number, odd))"
      ],
      "metadata": {
        "colab": {
          "base_uri": "https://localhost:8080/"
        },
        "id": "D9ODtdiMNHSh",
        "outputId": "72444fd2-437f-4a27-ebcb-f88ac102a728"
      },
      "execution_count": 2,
      "outputs": [
        {
          "output_type": "stream",
          "name": "stdout",
          "text": [
            " Please Enter the Maximum Value : 5\n",
            "The Sum of Even Numbers from 1 to 5 = 6\n",
            "The Sum of Odd Numbers from 1 to 5 = 9\n"
          ]
        }
      ]
    },
    {
      "cell_type": "code",
      "source": [
        "# lab task 2\n",
        " \n",
        "maximum = int(input(\" Please Enter the Maximum Value : \"))\n",
        "even = 0\n",
        "odd = 0\n",
        " \n",
        "for number in range(1, maximum + 1):\n",
        "    if(number % 2 == 0):\n",
        "        even = even + number\n",
        "    else:\n",
        "        odd = odd + number\n",
        " \n",
        "print(\"The Sum of Even Numbers from 1 to {0} = {1}\".format(number, even))\n",
        "print(\"The Sum of Odd Numbers from 1 to {0} = {1}\".format(number, odd))"
      ],
      "metadata": {
        "colab": {
          "base_uri": "https://localhost:8080/"
        },
        "id": "umEz5nj2NUwc",
        "outputId": "70a321ae-e1db-4862-e977-107007294f67"
      },
      "execution_count": 3,
      "outputs": [
        {
          "output_type": "stream",
          "name": "stdout",
          "text": [
            " Please Enter the Maximum Value : 67\n",
            "The Sum of Even Numbers from 1 to 67 = 1122\n",
            "The Sum of Odd Numbers from 1 to 67 = 1156\n"
          ]
        }
      ]
    },
    {
      "cell_type": "code",
      "source": [
        "# lab task 4\n",
        "print(\"Enter Marks Obtained in  Subject: \")\n",
        "marks = int(input())\n",
        "\n",
        "\n",
        "if marks>=91 and marks<=100:\n",
        "    print(\"Your Grade is A\")\n",
        "elif marks>=81 and marks<90:\n",
        "    print(\"Your Grade is B\")\n",
        "elif marks>=71 and marks<80:\n",
        "    print(\"Your Grade is C\")\n",
        "elif marks>=61 and marks<70:\n",
        "    print(\"Your Grade is D\")\n",
        "elif marks>=51 and marks<60:\n",
        "    print(\"Your Grade is E\")\n",
        "elif marks<50:\n",
        "    print(\"Your Grade is F\")\n",
        "\n",
        "else:\n",
        "    print(\"Invalid Input!\")"
      ],
      "metadata": {
        "colab": {
          "base_uri": "https://localhost:8080/"
        },
        "id": "xW7WewL9NYfR",
        "outputId": "fa173782-bd30-4f66-92b2-e20b551d54f9"
      },
      "execution_count": 4,
      "outputs": [
        {
          "output_type": "stream",
          "name": "stdout",
          "text": [
            "Enter Marks Obtained in  Subject: \n",
            "85\n",
            "Your Grade is B\n"
          ]
        }
      ]
    },
    {
      "cell_type": "code",
      "source": [
        "# lab task 5\n",
        "num = int(input(\"Enter a number: \"))    \n",
        "factorial = 1    \n",
        "if num < 0:    \n",
        "   print(\" Factorial does not exist for negative numbers\")    \n",
        "elif num == 0:    \n",
        "   print(\"The factorial of 0 is 1\")    \n",
        "else:    \n",
        "   for i in range(1,num + 1):    \n",
        "       factorial = factorial*i    \n",
        "   print(\"The factorial of\",num,\"is\",factorial) "
      ],
      "metadata": {
        "colab": {
          "base_uri": "https://localhost:8080/"
        },
        "id": "rmZmkfK2NfqF",
        "outputId": "4e0150bf-187b-411f-deeb-ee9ad4133ddf"
      },
      "execution_count": 5,
      "outputs": [
        {
          "output_type": "stream",
          "name": "stdout",
          "text": [
            "Enter a number: 5\n",
            "The factorial of 5 is 120\n"
          ]
        }
      ]
    }
  ]
}